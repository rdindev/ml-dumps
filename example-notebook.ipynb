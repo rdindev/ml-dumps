{
 "cells": [
  {
   "cell_type": "code",
   "execution_count": 2,
   "id": "8f059b9f",
   "metadata": {},
   "outputs": [
    {
     "name": "stdout",
     "output_type": "stream",
     "text": [
      "Hey,babe\n"
     ]
    }
   ],
   "source": [
    "print(\"Hey,babe\")"
   ]
  },
  {
   "cell_type": "code",
   "execution_count": 4,
   "id": "09119bb3",
   "metadata": {},
   "outputs": [],
   "source": [
    "a = 5"
   ]
  },
  {
   "cell_type": "code",
   "execution_count": 5,
   "id": "ad0a3419",
   "metadata": {},
   "outputs": [],
   "source": [
    "a = 6"
   ]
  },
  {
   "cell_type": "code",
   "execution_count": 6,
   "id": "8aa5b135",
   "metadata": {},
   "outputs": [],
   "source": [
    "a = 7"
   ]
  },
  {
   "cell_type": "code",
   "execution_count": 7,
   "id": "4f1b5749",
   "metadata": {},
   "outputs": [
    {
     "data": {
      "text/plain": [
       "7"
      ]
     },
     "execution_count": 7,
     "metadata": {},
     "output_type": "execute_result"
    }
   ],
   "source": [
    "a"
   ]
  },
  {
   "cell_type": "markdown",
   "id": "88069a3f",
   "metadata": {},
   "source": [
    "# I'm Learning ML and I'll complete it within next 10 days\n",
    "i am just learning how to use jupyter notebook"
   ]
  },
  {
   "cell_type": "code",
   "execution_count": 10,
   "id": "ccdf8b34",
   "metadata": {},
   "outputs": [],
   "source": [
    "#hey"
   ]
  },
  {
   "cell_type": "code",
   "execution_count": null,
   "id": "dccd0e63",
   "metadata": {},
   "outputs": [],
   "source": []
  }
 ],
 "metadata": {
  "kernelspec": {
   "display_name": "Python 3 (ipykernel)",
   "language": "python",
   "name": "python3"
  },
  "language_info": {
   "codemirror_mode": {
    "name": "ipython",
    "version": 3
   },
   "file_extension": ".py",
   "mimetype": "text/x-python",
   "name": "python",
   "nbconvert_exporter": "python",
   "pygments_lexer": "ipython3",
   "version": "3.10.6"
  }
 },
 "nbformat": 4,
 "nbformat_minor": 5
}
